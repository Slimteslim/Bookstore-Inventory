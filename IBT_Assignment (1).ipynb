{
  "nbformat": 4,
  "nbformat_minor": 0,
  "metadata": {
    "colab": {
      "provenance": []
    },
    "kernelspec": {
      "name": "python3",
      "display_name": "Python 3"
    },
    "language_info": {
      "name": "python"
    }
  },
  "cells": [
    {
      "cell_type": "code",
      "execution_count": null,
      "metadata": {
        "id": "A7JX4MThRLCa"
      },
      "outputs": [],
      "source": [
        "inventory = {\n",
        "    'To Kill a Mockingbird': {'author': 'Harper Lee', 'year': 1960, 'genre': 'Fiction', 'price': 18.99, 'stock': 5},\n",
        "    '1984': {'author': 'George Orwell', 'year': 1949, 'genre': 'Dystopian', 'price': 14.99, 'stock': 2},\n",
        "    'The Great Gatsby': {'author': 'F. Scott Fitzgerald', 'year': 1925, 'genre': 'Fiction', 'price': 10.99, 'stock': 7},\n",
        "    'Brave New World': {'author': 'Aldous Huxley', 'year': 1932, 'genre': 'Science Fiction', 'price': 15.99, 'stock': 3},\n",
        "    'Harry Potter and the Sorcerer\\'s Stone': {'author': 'J.K. Rowling', 'year': 1997, 'genre': 'Fantasy', 'price': 12.99, 'stock': 10},\n",
        "    'The Da Vinci Code': {'author': 'Dan Brown', 'year': 2003, 'genre': 'Mystery', 'price': 19.99, 'stock': 4},\n",
        "    'Pride and Prejudice': {'author': 'Jane Austen', 'year': 1813, 'genre': 'Romance', 'price': 9.99, 'stock': 6},\n",
        "    'The Book Thief': {'author': 'Markus Zusak', 'year': 2005, 'genre': 'Historical Fiction', 'price': 16.99, 'stock': 5},\n",
        "    'Steve Jobs': {'author': 'Walter Isaacson', 'year': 2011, 'genre': 'Biography', 'price': 22.99, 'stock': 8},\n",
        "    'The Power of Habit': {'author': 'Charles Duhigg', 'year': 2012, 'genre': 'Self-Help', 'price': 13.99, 'stock': 7}\n",
        "}\n"
      ]
    },
    {
      "cell_type": "code",
      "source": [
        "def add_book(inventory, title, author,year, genre, price, stock):\n",
        "\n",
        "  print(f\"The book '{title}' has been added or updated.\")\n",
        "add_book(inventory,'Atomic Habits', 'James Clear', 2018, 'Self-Help', 17.99, 6)\n",
        "print(inventory['Atomic Habits'])"
      ],
      "metadata": {
        "colab": {
          "base_uri": "https://localhost:8080/"
        },
        "id": "NBMDodFkVakk",
        "outputId": "b5eb351e-4e68-4ec9-8e88-c08e069a7583"
      },
      "execution_count": null,
      "outputs": [
        {
          "output_type": "stream",
          "name": "stdout",
          "text": [
            "The book 'Atomic Habits' has been added or updated.\n",
            "{'author': 'James Clear', 'year': 2018, 'genre': 'Self-Help', 'price': 17.99, 'stock': 6}\n"
          ]
        }
      ]
    },
    {
      "cell_type": "code",
      "source": [
        "print(inventory.keys())"
      ],
      "metadata": {
        "colab": {
          "base_uri": "https://localhost:8080/"
        },
        "id": "jXDZkM5hcl0X",
        "outputId": "93bb88d1-e92d-4a15-ca07-c1ccb13bcf10"
      },
      "execution_count": null,
      "outputs": [
        {
          "output_type": "stream",
          "name": "stdout",
          "text": [
            "dict_keys(['To Kill a Mockingbird', '1984', 'The Great Gatsby', 'Brave New World', \"Harry Potter and the Sorcerer's Stone\", 'The Da Vinci Code', 'Pride and Prejudice', 'The Book Thief', 'Steve Jobs', 'The Power of Habit', 'Atomic Habits'])\n"
          ]
        }
      ]
    },
    {
      "cell_type": "code",
      "source": [
        "def remove_book(inventory, title):\n",
        "  if title in inventory:\n",
        "    del inventory[title]\n",
        "    print(f\"The book, '{title}' has ben removed!\")\n",
        "  else:\n",
        "    print(f\"The book, '{title}' does not exist!\")\n",
        "remove_book(inventory,'Brave New World')\n",
        "print('Brave New World' in inventory)"
      ],
      "metadata": {
        "colab": {
          "base_uri": "https://localhost:8080/"
        },
        "id": "JQd3-lSEVQvN",
        "outputId": "14de563f-9047-4609-b994-c98373c133b2"
      },
      "execution_count": null,
      "outputs": [
        {
          "output_type": "stream",
          "name": "stdout",
          "text": [
            "The book, 'Brave New World' has ben removed!\n",
            "False\n"
          ]
        }
      ]
    },
    {
      "cell_type": "code",
      "source": [
        "inventory.keys()"
      ],
      "metadata": {
        "colab": {
          "base_uri": "https://localhost:8080/"
        },
        "id": "sNg6UDeJecNt",
        "outputId": "8681a78c-5c36-4614-fe61-f6d308de0269"
      },
      "execution_count": null,
      "outputs": [
        {
          "output_type": "execute_result",
          "data": {
            "text/plain": [
              "dict_keys(['To Kill a Mockingbird', '1984', 'The Great Gatsby', \"Harry Potter and the Sorcerer's Stone\", 'The Da Vinci Code', 'Pride and Prejudice', 'The Book Thief', 'Steve Jobs', 'The Power of Habit', 'Atomic Habits'])"
            ]
          },
          "metadata": {},
          "execution_count": 27
        }
      ]
    },
    {
      "cell_type": "code",
      "source": [
        "def update_book(inventory, title, field, new_value):\n",
        "  if title in inventory:\n",
        "    if field in inventory[title]:\n",
        "      inventory[title][field] = new_value\n",
        "      print(f\"{field} of '{title}' has been updated to {new_value}\")\n",
        "    else:\n",
        "      print(\"Field not found!\")\n",
        "  else:\n",
        "    print(f\"The book, '{title}' does not exist in the inventory!\")\n",
        "update_book(inventory, 'The Da Vinci Code', 'price', 20)"
      ],
      "metadata": {
        "id": "a_ie7POBeiUX",
        "colab": {
          "base_uri": "https://localhost:8080/"
        },
        "outputId": "d42a1473-0575-4086-a141-e33beb39f73c"
      },
      "execution_count": null,
      "outputs": [
        {
          "output_type": "stream",
          "name": "stdout",
          "text": [
            "price of 'The Da Vinci Code' has been updated to 20\n"
          ]
        }
      ]
    },
    {
      "cell_type": "code",
      "source": [
        "print(inventory)"
      ],
      "metadata": {
        "colab": {
          "base_uri": "https://localhost:8080/"
        },
        "id": "MmGYBC8syulj",
        "outputId": "9992782c-d1c4-4971-81b2-2a9e6303fb8e"
      },
      "execution_count": null,
      "outputs": [
        {
          "output_type": "stream",
          "name": "stdout",
          "text": [
            "{'To Kill a Mockingbird': {'author': 'Harper Lee', 'year': 1960, 'genre': 'Fiction', 'price': 18.99, 'stock': 5}, '1984': {'author': 'George Orwell', 'year': 1949, 'genre': 'Dystopian', 'price': 14.99, 'stock': 2}, 'The Great Gatsby': {'author': 'F. Scott Fitzgerald', 'year': 1925, 'genre': 'Fiction', 'price': 10.99, 'stock': 7}, \"Harry Potter and the Sorcerer's Stone\": {'author': 'J.K. Rowling', 'year': 1997, 'genre': 'Fantasy', 'price': 12.99, 'stock': 10}, 'The Da Vinci Code': {'author': 'Dan Brown', 'year': 2003, 'genre': 'Mystery', 'price': 20, 'stock': 4}, 'Pride and Prejudice': {'author': 'Jane Austen', 'year': 1813, 'genre': 'Romance', 'price': 9.99, 'stock': 6}, 'The Book Thief': {'author': 'Markus Zusak', 'year': 2005, 'genre': 'Historical Fiction', 'price': 16.99, 'stock': 5}, 'Steve Jobs': {'author': 'Walter Isaacson', 'year': 2011, 'genre': 'Biography', 'price': 22.99, 'stock': 8}, 'The Power of Habit': {'author': 'Charles Duhigg', 'year': 2012, 'genre': 'Self-Help', 'price': 13.99, 'stock': 7}, 'Atomic Habits': {'author': 'James Clear', 'year': 2018, 'genre': 'Self-Help', 'price': 17.99, 'stock': 6}}\n"
          ]
        }
      ]
    },
    {
      "cell_type": "code",
      "source": [
        "def calculate_total_value(inventory):\n",
        "  total = 0\n",
        "  for title in inventory:\n",
        "    price = inventory[title]['price']\n",
        "    stock = inventory[title]['stock']\n",
        "    total += price * stock\n",
        "  return total\n",
        "print(\"Total inventory value: $\", calculate_total_value(inventory))"
      ],
      "metadata": {
        "colab": {
          "base_uri": "https://localhost:8080/"
        },
        "id": "cY3dm1ydz4ox",
        "outputId": "fa84bc3c-1541-4268-f721-0d3dc1471c97"
      },
      "execution_count": null,
      "outputs": [
        {
          "output_type": "stream",
          "name": "stdout",
          "text": [
            "Total inventory value: $ 946.44\n"
          ]
        }
      ]
    }
  ]
}